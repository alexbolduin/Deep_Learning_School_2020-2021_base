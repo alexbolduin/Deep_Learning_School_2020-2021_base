{
  "nbformat": 4,
  "nbformat_minor": 0,
  "metadata": {
    "kernelspec": {
      "display_name": "Python 3",
      "language": "python",
      "name": "python3"
    },
    "language_info": {
      "codemirror_mode": {
        "name": "ipython",
        "version": 3
      },
      "file_extension": ".py",
      "mimetype": "text/x-python",
      "name": "python",
      "nbconvert_exporter": "python",
      "pygments_lexer": "ipython3",
      "version": "3.7.3"
    },
    "colab": {
      "name": "[homework]2_python_intro.ipynb",
      "provenance": [],
      "collapsed_sections": [],
      "include_colab_link": true
    }
  },
  "cells": [
    {
      "cell_type": "markdown",
      "metadata": {
        "id": "view-in-github",
        "colab_type": "text"
      },
      "source": [
        "<a href=\"https://colab.research.google.com/github/alexbolduin/Deep_Learning_School_2020-2021_base/blob/master/%5Bhomework%5D2_python_intro.ipynb\" target=\"_parent\"><img src=\"https://colab.research.google.com/assets/colab-badge.svg\" alt=\"Open In Colab\"/></a>"
      ]
    },
    {
      "cell_type": "markdown",
      "metadata": {
        "id": "y1GvSl7RYATs"
      },
      "source": [
        "<p style=\"align: center;\"><img align=center src=\"https://s8.hostingkartinok.com/uploads/images/2018/08/308b49fcfbc619d629fe4604bceb67ac.jpg\" width=500 height=450/></p>\n",
        "\n",
        "<h3 style=\"text-align: center;\"><b>\"Глубокое обучение\". Базовый поток</b></h3>\n",
        "\n",
        "<h2 style=\"text-align: center;\"><b>Домашнее задание 1. Основы Python</b></h2>\n",
        "\n",
        "Вам предлагается решить задачи ниже. Решения необходимо сдавать в Stepik."
      ]
    },
    {
      "cell_type": "markdown",
      "metadata": {
        "id": "MDEu6tZQYATy"
      },
      "source": [
        "### Почти двойной факториал\n",
        "Дано натуральное $N \\leqslant 100$.  Выведите произведение всех нечётных натуральных чисел, не превосходящих $N$."
      ]
    },
    {
      "cell_type": "code",
      "metadata": {
        "id": "5GgcNVy1YAT0"
      },
      "source": [
        "N = 25\n",
        "\n",
        "def almost_double_factorial(n):\n",
        "  if n == 0:\n",
        "    return 1\n",
        "  else:\n",
        "    odd = []\n",
        "    for i in range(1, n + 1):\n",
        "      if i % 2 != 0:\n",
        "        odd.append(i)\n",
        "    product = 1\n",
        "    for i in range(len(odd)):\n",
        "      product *= odd[i]\n",
        "    return product\n",
        "\n",
        "N_double_fact = almost_double_factorial(N)\n",
        "\n",
        "assert N_double_fact == 7905853580625, \"Something is wrong! Please try again\""
      ],
      "execution_count": 93,
      "outputs": []
    },
    {
      "cell_type": "markdown",
      "metadata": {
        "id": "A57_204nYAT3"
      },
      "source": [
        "### Хитрая сортировка\n",
        "\n",
        "Пусть у нас есть следующий список, в котором элементы -- tuple из строк:\n",
        "\n",
        "``items = [('one', 'two'), ('three', 'four'), ('five', 'six'), ('string', 'a')]``\n",
        "\n",
        "Мы хотим отсортировать этот список по последней букве второго элемента каждого ``tuple``, т.е. получить такой список:\n",
        "\n",
        "``sorted_items = [('string', 'a'), ('one', 'two'), ('three', 'four'), ('five', 'six')]``.\n",
        "Что нужно вставить вместо \"###\" в следующем выражении, чтобы получить сортировку?\n",
        "\n",
        "``sorted_items = sorted(items, key=lambda x: ###)``"
      ]
    },
    {
      "cell_type": "code",
      "metadata": {
        "id": "SnIk7m_8YAT4"
      },
      "source": [
        "items = [('one', 'two'), ('three', 'four'), ('five', 'six'), ('string', 'a')]\n",
        "\n",
        "sorted_items = sorted(items, key=lambda x: x[1][-1])\n",
        "\n",
        "assert sorted_items == [('string', 'a'), ('one', 'two'), ('three', 'four'), ('five', 'six')], \\\n",
        "\"Something is wrong! Please try again\""
      ],
      "execution_count": 91,
      "outputs": []
    },
    {
      "cell_type": "markdown",
      "metadata": {
        "id": "f_ggknIxYAT7"
      },
      "source": [
        "### Слайсы\n",
        "\n",
        "Дан код:\n",
        "\n",
        "``x = [1, 2, 3, 4, 5]``\n",
        "\n",
        "``x[###] = [-1, -3, -5]``\n",
        "\n",
        "``print(x)``\n",
        "\n",
        "Напишите слайс вместо ###, чтобы на экран вывелось:\n",
        "\n",
        "``[-5, 2, -3, 4, -1]``"
      ]
    },
    {
      "cell_type": "code",
      "metadata": {
        "id": "JcLMmkF6YAT8"
      },
      "source": [
        "x = [1, 2, 3, 4, 5]\n",
        "x[::-2] = [-1, -3, -5]\n",
        "\n",
        "assert x == [-5, 2, -3, 4, -1]"
      ],
      "execution_count": 92,
      "outputs": []
    },
    {
      "cell_type": "markdown",
      "metadata": {
        "id": "3QOrzr1_YAT_"
      },
      "source": [
        "### Создание массивов\n",
        "Дан массив $A[0,\\ldots,N-1]$. Напишите функцию, принимающую один обязательный аргумент A и один опциональный аргумент ``erase``, по умолчанию равный 1. Возвратите массив $B[0,\\ldots, N-1]$, где $B_i = A_0 + \\ldots + A_{i}$ --- массив частичных сумм массива $A$, предварительно удалив из массива $B$ все элементы, равные erase. Постарайтесь сделать это за линейное время без использования Numpy."
      ]
    },
    {
      "cell_type": "code",
      "metadata": {
        "id": "GSeVXF-xYAUA",
        "outputId": "f21d1f44-86c5-4ebc-80f0-381d453a0430",
        "colab": {
          "base_uri": "https://localhost:8080/",
          "height": 34
        }
      },
      "source": [
        "def cumsum_and_erase(a_list, erase=1):\n",
        "  b_list = []\n",
        "  cs = 0\n",
        "  for a in a_list:\n",
        "    cs += a\n",
        "    if cs != erase:\n",
        "      b_list.append(cs)\n",
        "\n",
        "  return b_list\n",
        "\n",
        "A = [5, 1, 4, 5, 14]\n",
        "B = cumsum_and_erase(A, erase=10)\n",
        "print(B)\n",
        "assert B == [5, 6, 15, 29], \"Something is wrong! Please try again\""
      ],
      "execution_count": 94,
      "outputs": [
        {
          "output_type": "stream",
          "text": [
            "[5, 6, 15, 29]\n"
          ],
          "name": "stdout"
        }
      ]
    },
    {
      "cell_type": "markdown",
      "metadata": {
        "id": "xvOBFjavYAUD"
      },
      "source": [
        "### Обработка текста\n",
        "Дан список текстов, слова в которых разделены пробелами (можно считать, что знаков препинания нет). Часть слов является \"мусорными\": в них присутствуют цифры и спецсимволы. Отфильтруйте такие слова из каждого текста. Используйте функции ``str.split``, ``str.isalpha``, ``str.join``, а также [генератор filter](http://pythonicway.com/python-functinal-programming)."
      ]
    },
    {
      "cell_type": "code",
      "metadata": {
        "id": "GBzS-UHZYAUE",
        "outputId": "a4d79200-2bf4-4139-ba29-28f93e32b418",
        "colab": {
          "base_uri": "https://localhost:8080/",
          "height": 34
        }
      },
      "source": [
        "sentences = ['1 thousand devils', 'My name is 9Pasha', 'Room #125 costs $100']\n",
        "\n",
        "def process(sentences):\n",
        "  res = []\n",
        "  result = []\n",
        "  for elem in sentences:\n",
        "    pre_res = []\n",
        "    word = ''\n",
        "    for i in range(len(elem)):\n",
        "      if elem[i] != ' ':\n",
        "        word += elem[i]\n",
        "      elif elem[i] == ' ':\n",
        "        pre_res.append(word)\n",
        "        word = ''\n",
        "      if i == list(range(len(elem)))[-1]:\n",
        "        pre_res.append(word)\n",
        "    res.append(pre_res)\n",
        "  for i in range(len(res)):\n",
        "    res[i] = [x for x in res[i] if x.isalpha()]\n",
        "  for r in res:\n",
        "    result.append(' '.join(r))\n",
        "\n",
        "  return result\n",
        "\n",
        "print(process(sentences))\n",
        "\n",
        "assert process(sentences) == ['thousand devils', 'My name is', 'Room costs'], \\\n",
        "\"Something is wrong! Please try again\""
      ],
      "execution_count": 74,
      "outputs": [
        {
          "output_type": "stream",
          "text": [
            "['thousand devils', 'My name is', 'Room costs']\n"
          ],
          "name": "stdout"
        }
      ]
    },
    {
      "cell_type": "markdown",
      "metadata": {
        "id": "EK5Llgf7YAUG"
      },
      "source": [
        "### Собственный класс \"Нейрон\"\n",
        "Реализуйте класс \"Нейрон\", у которого будет несколько методов: \n",
        "\n",
        "* ``__init__``. Принимает на вход массив весов нейрона --- $w = (w_1, \\ldots, w_n)$, а также функцию активации $f$ (по умолчанию $f(x) = x$). Сохраняет веса и функцию внутри класса.\n",
        "\n",
        "* ``forward``. Принимает на вход массив $x = (x_1, \\ldots, x_N)$ --- входы нейрона. Возвращает $f(w_1x_1 + \\ldots + w_nx_n)$.\n",
        "\n",
        "* ``backlog``. Возвращает последний массив $x$, который подавался функции ``forward`` на вход. \n",
        "\n",
        "Если у вас появились трудности, информация по созданию своих классов есть здесь: https://pythonworld.ru/osnovy/obektno-orientirovannoe-programmirovanie-obshhee-predstavlenie.html"
      ]
    },
    {
      "cell_type": "code",
      "metadata": {
        "id": "ZmUVu7fNYAUH"
      },
      "source": [
        "class Neuron:\n",
        "    \n",
        "    def __init__(self, w, f = lambda x: x):\n",
        "      self.w = w\n",
        "      self.f = f\n",
        "    \n",
        "    def forward(self, x):\n",
        "      self.x = x\n",
        "      self.res = []\n",
        "      for i in range(len(self.x)):\n",
        "        self.res.append(self.x[i]*self.w[i])\n",
        "      return self.f(sum(self.res))\n",
        "          \n",
        "    def backlog(self):\n",
        "      if self.x:\n",
        "        return self.x\n",
        "      else:\n",
        "        return None"
      ],
      "execution_count": 89,
      "outputs": []
    },
    {
      "cell_type": "code",
      "metadata": {
        "id": "g6OIjuZhYAUK"
      },
      "source": [
        "import math\n",
        "\n",
        "w = [0.5, 1., -1., 2.]\n",
        "\n",
        "neuron = Neuron([0.5, 1., -1., 2.], lambda x: 1. / (1 + math.exp(x)))\n",
        "\n",
        "x = [1, 2, 3, 4]\n",
        "\n",
        "assert abs(neuron.forward(x) - 0.0005527) < 1e-6, \"Something is wrong! Please try again\"\n",
        "\n",
        "assert neuron.backlog() == x, \"Something is wrong! Please try again\"\n",
        "\n",
        "y = [0, 0, 0, 0]\n",
        "\n",
        "assert abs(neuron.forward(y) - 0.5) < 1e-6, \"Something is wrong! Please try again\""
      ],
      "execution_count": 90,
      "outputs": []
    },
    {
      "cell_type": "code",
      "metadata": {
        "id": "oTRwiGfMPpIq"
      },
      "source": [
        ""
      ],
      "execution_count": null,
      "outputs": []
    }
  ]
}